{
 "cells": [
  {
   "cell_type": "code",
   "execution_count": 12,
   "metadata": {},
   "outputs": [
    {
     "name": "stdout",
     "output_type": "stream",
     "text": [
      "Error occurred: 500 Server Error:  for url: https://www.ncdc.noaa.gov/cdo-web/api/v2/data?datasetid=STORM_EVENTS&startdate=2000-01-01&enddate=2020-01-01&limit=1000&includemetadata=false&token=ncqqWGgPnzliGGzodORqPisiHhackDYl\n"
     ]
    }
   ],
   "source": [
    "import requests\n",
    "import json\n",
    "\n",
    "# Set the NOAA NCEI API base URL for storm events\n",
    "ncei_url = \"https://www.ncdc.noaa.gov/cdo-web/api/v2/data\"\n",
    "\n",
    "# Set your API token (Make sure to replace this with your actual token)\n",
    "api_token = \"ncqqWGgPnzliGGzodORqPisiHhackDYl\"  # Replace with your actual token\n",
    "\n",
    "# Set parameters for the request\n",
    "params = {\n",
    "    \"datasetid\": \"STORM_EVENTS\",  # Dataset for storm events\n",
    "    \"startdate\": \"2000-01-01\",     # Start date (20 years ago)\n",
    "    \"enddate\": \"2020-01-01\",       # End date (20 years later)\n",
    "    \"limit\": 1000,                 # Limit the number of results returned\n",
    "    \"includemetadata\": \"false\",    # Do not include metadata\n",
    "    \"token\": api_token              # Include your token here\n",
    "}\n",
    "\n",
    "headers = {\n",
    "    \"token\": \"ncqqWGgPnzliGGzodORqPisiHhackDYl\"\n",
    "}\n",
    "\n",
    "# Make the request to the NOAA NCEI API\n",
    "try:\n",
    "    response = requests.get(ncei_url, headers=headers, params=params)\n",
    "    response.raise_for_status()  # Raise an error for bad status codes\n",
    "\n",
    "    # Parse JSON data\n",
    "    storm_data = response.json()\n",
    "\n",
    "    # Check if results exist\n",
    "    if 'results' in storm_data and storm_data['results']:\n",
    "        # Process and print relevant information about hurricanes\n",
    "        for event in storm_data['results']:\n",
    "            if event['event_type'] == 'Hurricane':\n",
    "                print(f\"Event: {event['event_type']}\")\n",
    "                print(f\"Date: {event['date']}\")\n",
    "                print(f\"Damage (Dollars): {event.get('damage_property', 'No data')}\")\n",
    "                print(f\"Deaths: {event.get('deaths', 'No data')}\")\n",
    "                print(\"-----------\")\n",
    "    else:\n",
    "        print(\"No hurricane data found for the specified period.\")\n",
    "\n",
    "except requests.exceptions.RequestException as e:\n",
    "    print(\"Error occurred:\", e)"
   ]
  }
 ],
 "metadata": {
  "kernelspec": {
   "display_name": "base",
   "language": "python",
   "name": "python3"
  },
  "language_info": {
   "codemirror_mode": {
    "name": "ipython",
    "version": 3
   },
   "file_extension": ".py",
   "mimetype": "text/x-python",
   "name": "python",
   "nbconvert_exporter": "python",
   "pygments_lexer": "ipython3",
   "version": "3.12.4"
  }
 },
 "nbformat": 4,
 "nbformat_minor": 2
}
