<<<<<<< HEAD
# Dependencies
import requests
import json
import pprint
import numpy as np

# Import the API key
#from config import geoapify_key


# Set base URL
base_url = "https://api.weather.gov/openapi.json"
response = requests.get(base_url)
results = response.json()
print(json.dumps(results, indent=4, sort_keys=True))





=======
# Dependencies and Setup
import matplotlib.pyplot as plt
import pandas as pd
import numpy as np
import requests
import time
from pprint import pprint
import json
from scipy.stats import linregress
import scipy.stats as st
import csv
import os
import plotly.graph_objects as go
from plotly.subplots import make_subplots
import seaborn as sns
from datetime import datetime

file_to_output = os.path.join("project-1", "output.csv")


#URL Bases and Filters
url = "https://www.fema.gov/api/open/v2/HazardMitigationGrantProgramDisasterSummaries"
urlv1 = "https://www.fema.gov/api/open/v1/FemaWebDisasterSummaries"
urlv2 ="https://www.fema.gov/api/open/v2/DisasterDeclarationsSummaries"


filters1 = "$filter=declarationDate gt '2003-12-31T04:00:00.000z' and incidentType eq 'Severe Storm'"
filters2 = "$filter=declarationDate gt '2003-12-31T04:00:00.000z' and (incidentType eq 'Hurricane' or incidentType eq 'Typhoon')" 
filters3 = "$filter=declarationDate gt '2003-12-31T04:00:00.000z' and incidentType eq 'Fire'" 
filters4 = "$filter=declarationDate gt '2003-12-31T04:00:00.000z' and incidentType eq 'Flood'" 
filters5 = "$filter=declarationDate gt '2003-12-31T04:00:00.000z' and (incidentType eq 'Severe Ice Storm' or incidentType eq 'Snow Storm' or incidentType eq 'Winter Storm' or incidentType eq 'Freezing' or incidentType eq 'Coastal Storm' or incidentType eq 'Tropical Storm')"



# Send a GET request to the API
response1 = requests.get(f"{url}?{filters1}")
response1


# Check if the request was successful
if response1.status_code == 200:
    # Parse the JSON data
    data = response1.json()
    
    # Extract the list of disaster declarations
    #disasters = data.get('DisasterDeclarationsSummaries', [])
    #disasters = data.get('FemaWebDisasterSummaries',[])
    disasters = data.get('HazardMitigationGrantProgramDisasterSummaries',[])
    
    # Create a DataFrame from the list of disaster records
    severe_df = pd.DataFrame(disasters)
    severe_df = severe_df.iloc[:, [0,1,2,3,4,5,6,8,10,13,23,24,25,26,27,28,29,31]]
    # Display the DataFrame
    severe_df
else:
    print(f"Error: {response1.status_code}")

# Convert declarationDate to datetime
severe_df['declarationDate'] = pd.to_datetime(severe_df['declarationDate'])

# Create a new column with the desired format
severe_df['Year'] = severe_df['declarationDate'].dt.strftime('%Y')


severe_df


severe_df["Year"].value_counts()


### SEVERE STORM FREQUENCY ###
# 20-year range List
years = []
for x in range(4,25):
    year = 2000 + x
    years.append(year)

frequency = severe_df["Year"].value_counts().sort_index()
ax = frequency.plot(kind='bar', color= "navy")
plt.xticks(range(len(years)), rotation = 90)
plt.xlabel("Year")
plt.ylabel("Number of Incidents Recieving Funding")
plt.title("Hazard Mitigation Assistance - Severe Storms")
plt.show()


response2 = requests.get(f"{urlv2}?{filters1}")
response2


# Check if the request was successful
if response2.status_code == 200:
    # Parse the JSON data
    data = response2.json()
    
    # Extract the list of disaster declarations
    disasters = data.get('DisasterDeclarationsSummaries', [])
    
    # Create a DataFrame from the list of disaster records
    severe_df2 = pd.DataFrame(disasters)
    severe_df2 = severe_df2.iloc[:, [1,2,4,6,7,11]]
    
    # Display the DataFrame
    severe_df2
else:
    print(f"Error: {response2.status_code}")

# Convert declarationDate to datetime
severe_df2['declarationDate'] = pd.to_datetime(severe_df2['declarationDate'])

# Create a new column with the desired format
severe_df2['Year'] = severe_df2['declarationDate'].dt.strftime('%Y')


severe_df2


severe_df2["Year"].value_counts()


filters11 = "$filter=declarationDate le '2023-01-01T04:00:00.000z' and incidentType eq 'Severe Storm'"

response3 = requests.get(f"{urlv2}?{filters11}")
response3


# Check if the request was successful
if response3.status_code == 200:
    # Parse the JSON data
    data = response3.json()
    
    # Extract the list of disaster declarations
    disasters = data.get('DisasterDeclarationsSummaries', [])
    
    # Create a DataFrame from the list of disaster records
    severe_df3 = pd.DataFrame(disasters)
    severe_df3 = severe_df3.iloc[:, [1,2,3,4,6,11]]
    
    # Display the DataFrame
    severe_df3
else:
    print(f"Error: {response2.status_code}")

# Convert declarationDate to datetime
severe_df3['declarationDate'] = pd.to_datetime(severe_df3['declarationDate'])

# Create a new column with the desired format
severe_df3['Year'] = severe_df3['declarationDate'].dt.strftime('%Y')


severe_df3


severe_df3["Year"].value_counts()


filters111 = "$filter=declarationDate le '2007-01-01T04:00:00.000z' and declarationDate ge '2004-01-01T04:00:00.000z' and incidentType eq 'Severe Storm'"

response4 = requests.get(f"{urlv2}?{filters111}")
response4


# Check if the request was successful
if response4.status_code == 200:
    # Parse the JSON data
    data = response4.json()
    
    # Extract the list of disaster declarations
    disasters = data.get('DisasterDeclarationsSummaries', [])
    
    # Create a DataFrame from the list of disaster records
    severe_df4 = pd.DataFrame(disasters)
    severe_df4 = severe_df4.iloc[:, [1,2,3,4,6,11]]
    
    # Display the DataFrame
    severe_df4
else:
    print(f"Error: {response2.status_code}")

# Convert declarationDate to datetime
severe_df4['declarationDate'] = pd.to_datetime(severe_df4['declarationDate'])

# Create a new column with the desired format
severe_df4['Year'] = severe_df4['declarationDate'].dt.strftime('%Y')


severe_df4


severe_df3["Year"].value_counts()


#Concat Dataframes Vertically

stacked_df = pd.concat([severe_df3, severe_df3, severe_df3], ignore_index=True)
>>>>>>> ana-branch
