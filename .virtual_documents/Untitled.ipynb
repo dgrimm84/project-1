# Dependencies and Setup
import matplotlib.pyplot as plt
import pandas as pd
import numpy as np
import requests
import time
from pprint import pprint
import json
from scipy.stats import linregress
import scipy.stats as st
import csv
import os
import plotly.graph_objects as go
from plotly.subplots import make_subplots
import seaborn as sns

file_to_output = os.path.join("project-1", "output.csv")


#url ="https://www.fema.gov/api/open/v2/DisasterDeclarationsSummaries"
#url= "https://www.fema.gov/api/open/v1/FemaWebDisasterSummaries"
url="https://www.fema.gov/api/open/v2/HazardMitigationGrantProgramDisasterSummaries"
#filters1 = "$filter=incidentType eq 'Severe Storm'"
#filters2 = "$filter=(incidentType eq 'Hurricane' or incidentType eq 'Typhoon')" -246
#filters3 = "$filter=incidentType eq 'Fire'" -481
#filters4 = "$filter=incidentType eq 'Flood'" -355
#filters5 = "$filter=(incidentType eq 'Severe Ice Storm' or incidentType eq 'Snow Storm' or incidentType eq 'Winter Storm' or incidentType eq 'Freezing' or incidentType eq 'Coastal Storm' or incidentType eq 'Tropical Storm')"-106
#filters1 = "$filter=declarationDate gt '2014-01-13T04:00:00.000Z' and incidentType eq 'Severe Storm'" -1000
#filters1 = "$filter=declarationDate gt '2014-01-13T04:00:00.000Z' and (incidentType eq 'Hurricane' or incidentType eq 'Typhoon')"



# Send a GET request to the API
#response = requests.get(url+'?'+filters1)
response = requests.get(f"{url}?{filters5}")
response


# Send a GET request to the API


# Check if the request was successful
if response.status_code == 200:
    # Parse the JSON data
    data = response.json()
    
    # Extract the list of disaster declarations
    #disasters = data.get('DisasterDeclarationsSummaries', [])
    #disasters = data.get('FemaWebDisasterSummaries',[])
    disasters = data.get('HazardMitigationGrantProgramDisasterSummaries',[])
    # Create a DataFrame from the list of disaster records
    Disaster_df = pd.DataFrame(disasters)
    #Disaster_df.drop(Disaster_df.columns[[8,11,12,14,15,16,17]], axis=1, inplace=True)
    #columns_to_drop = ['column1', 'column2']
    Disaster_df = Disaster_df.iloc[:, [0,1,2,3,4,5,6,8,10,13,23,24,25,26,27,28,29,31]]
    # Display the DataFrame
    Disaster_df
else:
    print(f"Error: {response.status_code}")

# Convert declarationDate to datetime
Disaster_df['declarationDate'] = pd.to_datetime(Disaster_df['declarationDate'])

# Create a new column with the desired format
Disaster_df['formattedDate'] = Disaster_df['declarationDate'].dt.strftime('%B %Y')


Disaster_df



Disaster_df['incidentType'].unique()


Disaster_df['incidentType'].value_counts()


Disaster_df['title'].value_counts()



