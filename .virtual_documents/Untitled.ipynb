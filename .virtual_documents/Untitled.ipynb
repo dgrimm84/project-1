# Dependencies
import requests
import json
import pprint
import numpy as np

# Import the API key
#from config import geoapify_key


# Set base URL
base_url = "https://api.weather.gov/openapi.json"
response = requests.get(base_url)
results = response.json()
print(json.dumps(results, indent=4, sort_keys=True))





