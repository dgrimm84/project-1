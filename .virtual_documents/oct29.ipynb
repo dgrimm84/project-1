# Dependencies and Setup
import matplotlib.pyplot as plt
import pandas as pd
import numpy as np
import requests
import time
from pprint import pprint
import json
from scipy.stats import linregress
import scipy.stats as st
import csv
import os
import plotly.graph_objects as go
from plotly.subplots import make_subplots
import seaborn as sns
import geopandas as gpd
import folium
import hvplot.pandas
from folium.plugins import HeatMap
from folium.plugins import MarkerCluster
from shapely.geometry import Point
file_to_output = os.path.join("project-1", "output.csv")


#url ="https://www.fema.gov/api/open/v2/DisasterDeclarationsSummaries"
#url= "https://www.fema.gov/api/open/v1/FemaWebDisasterSummaries"
url="https://www.fema.gov/api/open/v2/HazardMitigationGrantProgramDisasterSummaries"
filters2 = "$filter=declarationDate gt '2004-01-13T04:00:00.000Z' and (incidentType eq 'Hurricane' or incidentType eq 'Typhoon' or incidentType eq 'Fire' or incidentType eq 'Flood')" 



# Send a GET request to the API
#response = requests.get(url+'?'+filters1)
response = requests.get(f"{url}?{filters2}")


# Sample request (replace with your actual API URL)

# Check if the request was successful
if response.status_code == 200:
    # Parse the JSON data
    data = response.json()
    
    disasters = data.get('HazardMitigationGrantProgramDisasterSummaries', [])
    Disaster_df = pd.DataFrame(disasters)
    Disaster_df = Disaster_df.iloc[:, [0, 1, 2, 3, 4, 5, 6, 8, 10, 13, 23, 24, 25, 26, 27, 28, 29, 31]]
    
    # Convert declarationDate to datetime
    Disaster_df['declarationDate'] = pd.to_datetime(Disaster_df['declarationDate'], errors='coerce')
    
    # Create new columns with the desired formats
    Disaster_df['formattedDate'] = Disaster_df['declarationDate'].dt.strftime('%B %Y')
    Disaster_df['formattedyear'] = Disaster_df['declarationDate'].dt.strftime('%Y')

    # Data Cleaning Steps

    # 1. Handle missing values
    Disaster_df = Disaster_df.dropna(subset=['declarationDate'])

    # 2. Remove duplicates
    Disaster_df = Disaster_df.drop_duplicates()

    # 3. Format data types (if needed)
    # Disaster_df['some_numeric_column'] = pd.to_numeric(Disaster_df['some_numeric_column'], errors='coerce')

    # 4. Filter out unnecessary data
    # Disaster_df = Disaster_df[Disaster_df['some_column'] == 'some_value']

    # 5. Rename columns for clarity
    Disaster_df.rename(columns={
        'column1': 'NewColumnName1',
        'column2': 'NewColumnName2',
        # Add more columns as needed
    }, inplace=True)

    # Save the cleaned DataFrame to a CSV file
    Disaster_df.to_csv('disaster_data_cleaned.csv', index=False)

    print("Data saved to disaster_data_cleaned.csv")
else:
    print(f"Error: {response.status_code}")
Disaster_df


Disaster_df['incidentType'].value_counts()


monthly_counts = Disaster_df['formattedyear'].value_counts().sort_index()

# Plotting
plt.figure(figsize=(12, 6))
monthly_counts.plot(kind='bar')
plt.title('Disaster Declarations by year')
plt.xlabel('Year')
plt.ylabel('Number of Declarations')
plt.xticks(rotation=45)
plt.show()


# Count disasters per year
yearly_counts = Disaster_df['formattedyear'].value_counts().sort_index()

# Plotting
plt.figure(figsize=(12, 6))
yearly_counts.plot(kind='line', marker='o')
plt.title('IncidentType Declarations Over Years')
plt.xlabel('Year')
plt.ylabel('Number of Declarations')
plt.grid()
plt.show()


# Assuming you have a 'disasterType' column
disaster_type_counts = Disaster_df['incidentType'].value_counts()

# Plotting
plt.figure(figsize=(8, 8))
disaster_type_counts.plot(kind='pie', autopct='%1.1f%%', startangle=90)
plt.title('Proportion of incidentType Types')
plt.ylabel('')  # Hide the y-label
plt.show()


# Pivot table for heatmap
heatmap_data = Disaster_df.pivot_table(index='formattedyear', columns='incidentType', values='declarationDate', aggfunc='count', fill_value=0)

# Plotting
plt.figure(figsize=(12, 8))
sns.heatmap(heatmap_data, annot=True, fmt='d', cmap='YlGnBu')
plt.title('Heatmap of incidentType by Year and Type')
plt.xlabel('IncidentType')
plt.ylabel('Year')
plt.show()









