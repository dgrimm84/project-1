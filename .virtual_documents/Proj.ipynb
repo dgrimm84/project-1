#Import Dependencies
import requests
import json
import numpy as np
import pandas as pd


base_url = "https://www.fema.gov/api/open/"
disasterV1 = "v1/FemaWebDisasterSummaries"
#filterDate = "$filter=declarationDate gt '2004-10-31T04:00:00.000z'"
#sortBy = "$orderby=state"
#+"?"+filterDate+"&"+sortBy
grant_response = requests.get(base_url+disasterV1).json()
#print(json.dumps(grant_response,indent=4, sort_keys=True))


#v1_df = pd.DataFrame(grant_response["FemaWebDisasterSummaries"][0],
                     #grant_response["FemaWebDisasterSummaries"][12])
#v1_df


disasterV2 = "v2/HazardMitigationGrantProgramDisasterSummaries"
filters = "$filter=declarationDate gt '2004-10-31T04:00:00.000z' and incidentType eq 'Hurricane'"
sortBy = "$orderby=state"
disas_response = requests.get(base_url+disasterV2+"?"+filters+"&"+sortBy).json()
#print(json.dumps(disas_response,indent=4, sort_keys=True))

disasterNumber = []
dateLst = []
incidentTypeLst = []
stateLst = []
i = "HazardMitigationGrantProgramDisasterSummaries"

for x in range (len(disas_response[i])):
    disasterNumber.append(disas_response[i][x]["disasterNumber"])
    dateLst.append(disas_response[i][x]["declarationDate"])
    incidentTypeLst.append(disas_response[i][x]["incidentType"])
    stateLst.append(disas_response[i][x]["state"])

data = {"Disaster ID":disasterNumber, "Date Reported":dateLst, "Incident Type":incidentTypeLst, "State": stateLst}
        
    
v2_df = pd.DataFrame(data)
v2_df


info = v2_df[v2_df["Disaster ID"]==4162]
info



