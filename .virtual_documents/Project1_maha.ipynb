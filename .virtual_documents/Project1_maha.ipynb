# Dependencies and Setup
import matplotlib.pyplot as plt
import pandas as pd
import numpy as np
import requests
import time
from pprint import pprint
import plotly.express as px
import json
from scipy.stats import linregress
import scipy.stats as st
import csv
import os
import plotly.graph_objects as go
import plotly.io as pio
from plotly.subplots import make_subplots
import seaborn as sns
import geopandas as gpd
import folium
import hvplot.pandas
from matplotlib.animation import FuncAnimation
from folium.plugins import HeatMap
from folium.plugins import MarkerCluster
from shapely.geometry import Point
file_to_output = os.path.join("project-1", "output.csv")


#url ="https://www.fema.gov/api/open/v2/DisasterDeclarationsSummaries"
#url= "https://www.fema.gov/api/open/v1/FemaWebDisasterSummaries"
url="https://www.fema.gov/api/open/v2/HazardMitigationGrantProgramDisasterSummaries"
filters2 = "$filter=declarationDate gt '2004-01-13T04:00:00.000Z' and (incidentType eq 'Hurricane' or incidentType eq 'Typhoon' or incidentType eq 'Fire' or incidentType eq 'Flood')" 



# Send a GET request to the API
#response = requests.get(url+'?'+filters1)
response = requests.get(f"{url}?{filters2}")


# Sample request (replace with your actual API URL)

# Check if the request was successful
if response.status_code == 200:
    # Parse the JSON data
    data = response.json()
    
    disasters = data.get('HazardMitigationGrantProgramDisasterSummaries', [])
    Disaster_df = pd.DataFrame(disasters)
    Disaster_df = Disaster_df.iloc[:, [0, 1, 2, 3, 4, 5, 6, 8, 10, 13, 23, 24, 25, 26, 27, 28, 29, 31]]
    
    # Convert declarationDate to datetime
    Disaster_df['declarationDate'] = pd.to_datetime(Disaster_df['declarationDate'], errors='coerce')
    
    # Create new columns with the desired formats
    Disaster_df['formattedDate'] = Disaster_df['declarationDate'].dt.strftime('%B %Y')
    Disaster_df['formattedyear'] = Disaster_df['declarationDate'].dt.strftime('%Y')

    # Data Cleaning Steps

    # 1. Handle missing values
    Disaster_df = Disaster_df.dropna(subset=['declarationDate'])

    # 2. Remove duplicates
    Disaster_df = Disaster_df.drop_duplicates()

    # 3. Format data types (if needed)
    # Disaster_df['some_numeric_column'] = pd.to_numeric(Disaster_df['some_numeric_column'], errors='coerce')

    # 4. Filter out unnecessary data
    # Disaster_df = Disaster_df[Disaster_df['some_column'] == 'some_value']

    # 5. Rename columns for clarity
    Disaster_df.rename(columns={
        'column1': 'NewColumnName1',
        'column2': 'NewColumnName2',
        # Add more columns as needed
    }, inplace=True)

    # Save the cleaned DataFrame to a CSV file
    Disaster_df.to_csv('disaster_data_cleaned.csv', index=False)

    print("Data saved to disaster_data_cleaned.csv")
else:
    print(f"Error: {response.status_code}")
Disaster_df


Disaster_df['incidentType'].value_counts()


monthly_counts = Disaster_df['formattedyear'].value_counts().sort_index()

# Plotting
plt.figure(figsize=(12, 6))
monthly_counts.plot(kind='bar')
plt.title('Disaster Declarations by year')
plt.xlabel('Year')
plt.ylabel('Number of Declarations')
plt.xticks(rotation=45)
plt.show()


# Count disasters per year
yearly_counts = Disaster_df['formattedyear'].value_counts().sort_index()

# Plotting
plt.figure(figsize=(12, 6))
yearly_counts.plot(kind='line', marker='o')
plt.title('IncidentType Declarations Over Years')
plt.xlabel('Year')
plt.ylabel('Number of Declarations')
plt.grid()
plt.show()


# Assuming you have a 'disasterType' column
disaster_type_counts = Disaster_df['incidentType'].value_counts()

# Plotting
plt.figure(figsize=(8, 8))
disaster_type_counts.plot(kind='pie', autopct='%1.1f%%', startangle=90)
plt.title('Proportion of incidentType Types')
plt.ylabel('')  # Hide the y-label
plt.show()


# Pivot table for heatmap
heatmap_data = Disaster_df.pivot_table(index='formattedyear', columns='incidentType', values='declarationDate', aggfunc='count', fill_value=0)

# Plotting
plt.figure(figsize=(12, 8))
sns.heatmap(heatmap_data, annot=True, fmt='d', cmap='YlGnBu')
plt.title('Heatmap of incidentType by Year and Type')
plt.xlabel('IncidentType')
plt.ylabel('Year')
plt.show()



data = {'state': ['CA', 'NY', 'TX', 'FL', 'IL', 'WA', 'OR', 'NV', 'AZ', 'CO'],
        'incidentType': ['Fire', 'Flood', 'Hurricane', 'Tornado', 'Earthquake', 'Wildfire', 'Volcano', 'Drought', 'Dust Storm', 'Blizzard'],
        'declarationDate': ['2023-10-26', '2023-10-27', '2023-10-28', '2023-10-29', '2023-10-30', '2023-10-31', '2023-11-01', '2023-11-02', '2023-11-03', '2023-11-04']}
Disaster_df = pd.DataFrame(data)

fig = px.choropleth(Disaster_df, locations='state', locationmode="USA-states", 
                    color='incidentType',
                    scope="usa",
                    title='US Disaster Map by Incident Type in 2023',
                    hover_name='state', 
                    hover_data=['declarationDate', 'incidentType'],
                    color_discrete_sequence=px.colors.qualitative.Dark24
                   )

# Update the layout to show the colorbar even when zoomed in
#fig.update_layout(coloraxis_colorbar=dict(title='Incident Type', len=0.5))
fig.update_layout(
    coloraxis_colorbar=dict(title='Incident Type'),
    width=1200,  # Adjust width as needed
    height=800   # Adjust height as needed
)
#fig.write_html("2023disaster_map.html")
fig.write_image("2023_us_disaster_map.png")
fig.show()


# Sample DataFrame (replace with your actual Disaster_df)
data = {'state': ['CA', 'NY', 'TX', 'FL', 'IL', 'WA', 'OR', 'NV', 'AZ', 'CO'],
        'incidentType': ['Fire', 'Flood', 'Hurricane', 'Tornado', 'Earthquake', 'Wildfire', 'Volcano', 'Drought', 'Dust Storm', 'Blizzard'],
        'declarationDate': ['2023-10-26', '2023-10-27', '2023-10-28', '2023-10-29', '2023-10-30', '2023-10-31', '2023-11-01', '2023-11-02', '2023-11-03', '2023-11-04'],
        'year': [2014, 2015, 2016, 2017, 2018, 2019, 2020, 2021, 2022, 2023]} # Added a 'year' column
Disaster_df = pd.DataFrame(data)

# Create the choropleth map
fig = px.choropleth(Disaster_df, locations='state', locationmode="USA-states", 
                    color='incidentType',
                    animation_frame="year", # Animate by year
                    scope="usa",
                    title='US Disaster Map by Incident Type (2014-2024)',
                    hover_name='state', 
                    hover_data=['incidentType', 'declarationDate'])

# Save the animation as a video file (e.g., MP4)
fig.write_html("disaster_map.html") # Save as HTML first
# If you have imageio-ffmpeg installed, you can save directly to MP4
# fig.write_videofile("disaster_map.mp4", fps=1) # Adjust fps as needed

fig.update_layout(
    coloraxis_colorbar=dict(title='Incident Type'),
    width=1200,  # Adjust width as needed
    height=800   # Adjust height as needed
)


fig.show()


data = {'state': ['CA', 'NY', 'TX', 'FL', 'IL', 'WA', 'OR', 'NV', 'AZ', 'CO'],
        'incidentType': ['Fire', 'Flood', 'Hurricane', 'Tornado', 'Earthquake', 'Wildfire', 'Volcano', 'Drought', 'Dust Storm', 'Blizzard'],
        'declarationDate': ['2023-10-26', '2023-10-27', '2023-10-28', '2023-10-29', '2023-10-30', '2023-10-31', '2023-11-01', '2023-11-02', '2023-11-03', '2023-11-04']}
Disaster_df = pd.DataFrame(data)

# Create a list of years from 2014 to 2025
years = list(range(2014, 2024))

# Assuming you want to create a map for each year, you need data for each year.
# Since the sample data doesn't have this, let's create dummy data.
# Replace this with your actual data loading and processing.

# Create dummy data for the years (replace with your actual data)
import random
for year in years:
  Disaster_df[str(year)] = [random.randint(0, 10) for _ in range(len(Disaster_df))]

#Now iterate through the years and create choropleth maps
for year in years:
  fig = px.choropleth(Disaster_df, locations='state', locationmode="USA-states", 
                    color=str(year),
                    scope="usa",
                    title=f'US Disaster Map for {year}',
                    hover_name='state', 
                    hover_data=['incidentType', 'declarationDate'],
                    color_continuous_scale="Viridis", # Optional: customize colors
                   )
  fig.update_layout(
    coloraxis_colorbar=dict(title='Incident Type'),
    width=1600,  # Increased width
    height=1000   # Increased height
    )

  fig.show()


# Load the dataframe.
Disaster_df = pd.read_csv('disaster_data_cleaned.csv')

# Group data by incident type and count the number of fields for each.
incident_field_counts = Disaster_df.groupby('incidentType').count()

# Display or further process the field counts.
incident_field_counts


# Convert 'declarationDate' to datetime objects
Disaster_df['declarationDate'] = pd.to_datetime(Disaster_df['declarationDate'])

# Ensure that the required columns are present
if 'state' not in Disaster_df.columns or 'incidentType' not in Disaster_df.columns:
    raise ValueError("Missing required columns in the DataFrame.")

# Analysis 1: Choropleth map of incident types by state
fig = px.choropleth(Disaster_df, locations='state', locationmode="USA-states",
                    color='incidentType',
                    scope="usa",
                    title='US Disaster Map by Incident Type',
                    hover_name='state',
                    hover_data=['declarationDate', 'incidentType'],
                    color_discrete_sequence=px.colors.qualitative.Dark24
                   )
fig.show()


# Analysis 2: Number of disasters per year
# Assuming the 'declarationDate' column is used to determine the year of the disaster
Disaster_df['year'] = Disaster_df['declarationDate'].dt.year
disaster_counts_per_year = Disaster_df.groupby('year').size().reset_index(name='disasterNumber')

fig = px.bar(disaster_counts_per_year, x='year', y='disasterNumber',
             labels={'disasterNumber': 'Number of Disasters', 'year': 'Year'},
             title='Number of Disasters per Year',
             text='disasterNumber')  # Add text parameter to display values on bars

fig.update_traces(textposition='outside')  # Position text outside the bars

fig.update_layout(
    autosize=False,
    width=1000,  # Adjust width as needed
    height=600,  # Adjust height as needed
    font=dict(size=14)  # Adjust font size
)

# Error handling for saving image
try:
    fig.write_image("Number_of_Disasters_per_Year.png")
    print("Image saved successfully.")
except Exception as e:
    print(f"An error occurred while saving the image: {e}")

fig.show()

# Analysis 3: Total obligated amount per disaster type
# Assuming 'incidentType' and 'obligatedTotalAmount' columns exist
obligated_amount_per_type = Disaster_df.groupby('incidentType')['obligatedTotalAmount'].sum().reset_index()

# Create a bar chart with obligated amounts displayed on the bars
fig = px.bar(obligated_amount_per_type, 
             x='incidentType', 
             y='obligatedTotalAmount',
             labels={'obligatedTotalAmount': 'Total Obligated Amount', 'incidentType': 'Disaster Type'},
             title='Total Obligated Amount per Disaster Type',
             text='obligatedTotalAmount')  # Add text to show the obligated amount on the bars

# Adjust text position and layout
fig.update_traces(textposition='outside',  # Position text outside the bars
                  texttemplate='%{text:.2s}')  # Format the amount (e.g., 1.23M, 456K)

fig.update_layout(
    autosize=False,
    width=1000,  # Adjust width as needed
    height=600,  # Adjust height as needed
    font=dict(size=14)  # Adjust font size
)

# Save the figure as an image
try:
    fig.write_image("Total_Obligated_Amount_per_Disaster_Type.png")
    print("Image saved successfully.")
except Exception as e:
    print(f"An error occurred while saving the image: {e}")

# Show the figure
fig.show()

# Analysis 4: Distribution of obligated amounts
fig = px.histogram(Disaster_df, x='obligatedTotalAmount',
                   title='Distribution of Obligated Amounts',
                   labels={'obligatedTotalAmount': 'Obligated Amount'})
fig.write_image("Distribution_of_Obligated_Amounts.png")
fig.show()

# Analysis 5: Relationship between obligated amount and disaster type (box plot)
fig = px.box(Disaster_df, x='incidentType', y='obligatedTotalAmount',
             title='Obligated Amount Distribution per Disaster Type')
fig.show()



