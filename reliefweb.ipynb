{
 "cells": [
  {
   "cell_type": "code",
   "execution_count": 19,
   "metadata": {},
   "outputs": [
    {
     "ename": "KeyError",
     "evalue": "'title'",
     "output_type": "error",
     "traceback": [
      "\u001b[1;31m---------------------------------------------------------------------------\u001b[0m",
      "\u001b[1;31mKeyError\u001b[0m                                  Traceback (most recent call last)",
      "Cell \u001b[1;32mIn[19], line 43\u001b[0m\n\u001b[0;32m     41\u001b[0m \u001b[38;5;66;03m# Process and extract relevant information\u001b[39;00m\n\u001b[0;32m     42\u001b[0m \u001b[38;5;28;01mfor\u001b[39;00m disaster \u001b[38;5;129;01min\u001b[39;00m all_disaster_data:\n\u001b[1;32m---> 43\u001b[0m     title \u001b[38;5;241m=\u001b[39m disaster[\u001b[38;5;124m'\u001b[39m\u001b[38;5;124mfields\u001b[39m\u001b[38;5;124m'\u001b[39m][\u001b[38;5;124m'\u001b[39m\u001b[38;5;124mtitle\u001b[39m\u001b[38;5;124m'\u001b[39m]\n\u001b[0;32m     44\u001b[0m     date \u001b[38;5;241m=\u001b[39m disaster[\u001b[38;5;124m'\u001b[39m\u001b[38;5;124mfields\u001b[39m\u001b[38;5;124m'\u001b[39m][\u001b[38;5;124m'\u001b[39m\u001b[38;5;124mdate\u001b[39m\u001b[38;5;124m'\u001b[39m]\n\u001b[0;32m     45\u001b[0m     country \u001b[38;5;241m=\u001b[39m disaster[\u001b[38;5;124m'\u001b[39m\u001b[38;5;124mfields\u001b[39m\u001b[38;5;124m'\u001b[39m][\u001b[38;5;124m'\u001b[39m\u001b[38;5;124mcountry\u001b[39m\u001b[38;5;124m'\u001b[39m]\n",
      "\u001b[1;31mKeyError\u001b[0m: 'title'"
     ]
    }
   ],
   "source": [
    "import requests\n",
    "import json\n",
    "from datetime import datetime, timedelta\n",
    "\n",
    "import requests\n",
    "\n",
    "# Set base URL for the ReliefWeb API\n",
    "base_url = \"https://api.reliefweb.int/v1/disasters\"\n",
    "# reports?appname=REPLACE-WITH-A-DOMAIN-OR-APP-NAME&query[value]=earthquake\n",
    "\n",
    "# Set parameters to filter disasters, including relevant fields\n",
    "params = {\n",
    "    \"appname\": \"your-app-name\",\n",
    "    #\"filter[field]\": \"disaster_type\",\n",
    "    #\"filter[value]\": \"Cyclone\",  # or any specific disaster type you are interested in\n",
    "    \"limit\": 100,\n",
    "    \"offset\": 0\n",
    "}\n",
    "\n",
    "# Initialize a list to store results\n",
    "all_disaster_data = []\n",
    "\n",
    "# Pagination loop\n",
    "while True:\n",
    "    try:\n",
    "        response = requests.get(base_url, params=params)\n",
    "        response.raise_for_status()\n",
    "        data = response.json()\n",
    "        \n",
    "        # Add disaster data to the list\n",
    "        all_disaster_data.extend(data['data'])\n",
    "        \n",
    "        # Check if there are more pages\n",
    "        if len(data['data']) < params['limit']:\n",
    "            break  # Exit loop if this is the last page\n",
    "        else:\n",
    "            params['offset'] += params['limit']  # Move to the next page\n",
    "    except requests.exceptions.RequestException as e:\n",
    "        print(\"Error occurred:\", e)\n",
    "        break\n",
    "\n",
    "# Process and extract relevant information\n",
    "for disaster in all_disaster_data:\n",
    "    title = disaster['fields']['title']\n",
    "    date = disaster['fields']['date']\n",
    "    country = disaster['fields']['country']\n",
    "    # Assuming the data contains damage and death estimates\n",
    "    damage = disaster['fields'].get('damage', 'No data available')  # Modify as per available fields\n",
    "    deaths = disaster['fields'].get('deaths', 'No data available')   # Modify as per available fields\n",
    "    \n",
    "    print(f\"Title: {title}, Date: {date}, Country: {country}, Damage: {damage}, Deaths: {deaths}\")"
   ]
  }
 ],
 "metadata": {
  "kernelspec": {
   "display_name": "base",
   "language": "python",
   "name": "python3"
  },
  "language_info": {
   "codemirror_mode": {
    "name": "ipython",
    "version": 3
   },
   "file_extension": ".py",
   "mimetype": "text/x-python",
   "name": "python",
   "nbconvert_exporter": "python",
   "pygments_lexer": "ipython3",
   "version": "3.12.4"
  }
 },
 "nbformat": 4,
 "nbformat_minor": 2
}
