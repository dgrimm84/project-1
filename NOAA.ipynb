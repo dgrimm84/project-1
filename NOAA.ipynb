{
 "cells": [
  {
   "cell_type": "code",
   "execution_count": 13,
   "metadata": {},
   "outputs": [
    {
     "name": "stdout",
     "output_type": "stream",
     "text": [
      "[]\n"
     ]
    }
   ],
   "source": [
    "# Dependencies\n",
    "import requests\n",
    "import json\n",
    "import pprint\n",
    "import numpy as np\n",
    "\n",
    "# Set base URL\n",
    "base_url = \"https://www.ncei.noaa.gov/access/services/data/v1\"\n",
    "\n",
    "# set parameters\n",
    "dataset = \"?dataset=global-summary-of-the-year\"\n",
    "stations = \"&stations=all\"\n",
    "startdate = \"&startDate=2024-01-01\"\n",
    "enddate = \"&endDate=2024-10-27\"\n",
    "format = \"&format=json\"\n",
    "#attributes = \"&includeAttributes=true\"\n",
    "units = \"&units=standard\"\n",
    "boundary = \"&bbox=49,25,67,125\"\n",
    "\n",
    "search_url = f'{base_url}{dataset}{stations}{startdate}{enddate}{format}{units}{boundary}'\n",
    "response = requests.get(search_url)\n",
    "results = response.json()\n",
    "print(json.dumps(results, indent=4, sort_keys=True))"
   ]
  }
 ],
 "metadata": {
  "kernelspec": {
   "display_name": "base",
   "language": "python",
   "name": "python3"
  },
  "language_info": {
   "codemirror_mode": {
    "name": "ipython",
    "version": 3
   },
   "file_extension": ".py",
   "mimetype": "text/x-python",
   "name": "python",
   "nbconvert_exporter": "python",
   "pygments_lexer": "ipython3",
   "version": "3.12.4"
  }
 },
 "nbformat": 4,
 "nbformat_minor": 2
}
