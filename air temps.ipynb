{
 "cells": [
  {
   "cell_type": "code",
   "execution_count": null,
   "id": "505ed3a8-aff1-425a-aded-cfb3f1073713",
   "metadata": {},
   "outputs": [],
   "source": [
    "import requests\n",
    "import json\n",
    "import pandas as pd\n",
    "import matplotlib.pyplot as plt\n",
    "from datetime import datetime\n",
    "\n",
    "\n",
    "# Define your token and headers\n",
    "api_token = \"RKvxexICPXTmHBocSlwoIJHHGExbjbwl\"\n",
    "headers = {\n",
    "    \"token\": api_token\n",
    "}\n",
    "\n",
    "# Define base URL for the API request\n",
    "base_url = \"https://www.ncei.noaa.gov/cdo-web/api/v2/data\"\n",
    "\n",
    "# Updated temperature collection with TMAX and TMIN\n",
    "temperature_data = []\n",
    "\n",
    "# Loop through each year\n",
    "for year in range(2014, 2025):\n",
    "    # Update start and end dates for each year\n",
    "    startdate = f\"{year}-06-01\"\n",
    "    enddate = f\"{year}-11-30\"\n",
    "\n",
    "    # Set parameters for the API request\n",
    "    params = {\n",
    "        \"datasetid\": \"GHCND\",\n",
    "        \"datatypeid\": [\"TMAX\", \"TMIN\"],  # Fetch both max and min temperatures\n",
    "        \"locationid\": \"FIPS:US\",\n",
    "        \"startdate\": startdate,\n",
    "        \"enddate\": enddate,\n",
    "        \"units\": \"metric\",\n",
    "        \"limit\": 1000\n",
    "    }\n",
    "\n",
    "    # Make API request\n",
    "    response = requests.get(base_url, headers=headers, params=params)\n",
    "\n",
    "    # Check if the request was successful\n",
    "    if response.status_code == 200:\n",
    "        # Parse the JSON response\n",
    "        data = response.json()\n",
    "\n",
    "        # Parse entries to extract dates and temperatures\n",
    "        for record in data.get(\"results\", []):\n",
    "            date = record.get(\"date\")\n",
    "            temperature = record.get(\"value\")\n",
    "\n",
    "            # Append valid data entries\n",
    "            if date and temperature is not None:\n",
    "                temperature_data.append({\n",
    "                    \"date\": datetime.strptime(date, \"%Y-%m-%dT%H:%M:%S\"),\n",
    "                    \"temperature\": temperature\n",
    "                })\n",
    "    else:\n",
    "        print(f\"Error for year {year}: {response.status_code}\", response.text)\n",
    "\n"
   ]
  },
  {
   "cell_type": "code",
   "execution_count": 11,
   "id": "483aa625-47d8-4bbf-b54e-093d9f0fa5d2",
   "metadata": {},
   "outputs": [],
   "source": [
    "# convert list to dataframe\n",
    "temp_data_df = pd.DataFrame(temperature_data, columns=['date', 'temperature'])\n",
    "\n",
    "# export data to csv file\n",
    "temp_data_df.to_csv('air_temps.csv')"
   ]
  },
  {
   "cell_type": "code",
   "execution_count": null,
   "id": "6af6a5b1-c889-4bc1-a05e-cd54155e097d",
   "metadata": {},
   "outputs": [],
   "source": []
  }
 ],
 "metadata": {
  "kernelspec": {
   "display_name": "Python 3 (ipykernel)",
   "language": "python",
   "name": "python3"
  },
  "language_info": {
   "codemirror_mode": {
    "name": "ipython",
    "version": 3
   },
   "file_extension": ".py",
   "mimetype": "text/x-python",
   "name": "python",
   "nbconvert_exporter": "python",
   "pygments_lexer": "ipython3",
   "version": "3.12.4"
  }
 },
 "nbformat": 4,
 "nbformat_minor": 5
}
